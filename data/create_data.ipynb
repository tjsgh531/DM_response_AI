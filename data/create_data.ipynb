{
 "cells": [
  {
   "cell_type": "markdown",
   "id": "456d1c1c",
   "metadata": {},
   "source": [
    "# 1. 카카오톡 대화 데이터 전처리"
   ]
  },
  {
   "cell_type": "code",
   "execution_count": 12,
   "id": "ad5273d4",
   "metadata": {},
   "outputs": [],
   "source": [
    "import openai\n",
    "from openai import OpenAI\n",
    "import json\n",
    "from dotenv import load_dotenv\n",
    "import os\n",
    "\n",
    "# 🔑 OpenAI API 키 설정\n",
    "load_dotenv()\n",
    "openai.api_key = os.getenv('OPENAI_API_KEY')\n",
    "\n",
    "client = OpenAI()\n",
    "\n",
    "# 📂 고객 대화 데이터 로드 (merged_by_client.json)\n",
    "with open(\"lieu_consulting_merged.json\", \"r\", encoding=\"utf-8\") as f:\n",
    "    data = json.load(f)"
   ]
  },
  {
   "cell_type": "code",
   "execution_count": 35,
   "id": "86827a69",
   "metadata": {},
   "outputs": [],
   "source": [
    "def extract_problem_from_customer_dialogue(client_data):\n",
    "    dialogue = \"\"\n",
    "    for pair in client_data[\"messages\"]:\n",
    "        dialogue += f\"Q: {pair['question']}\\nA: {pair['answer']}\\n\"\n",
    "\n",
    "    prompt = f\"\"\"다음은 한 고객과 전문가 Lieu 사이의 상담 대화입니다:\n",
    "\n",
    "{dialogue}\n",
    "\n",
    "위 대화를 참고하여 이 고객의 '문제점'을 요약해주세요.\n",
    "치료, 통증 등 의료에 관한 문제가 아니라면 \"문제없음\" 이라고 말해주세요.\n",
    "의료에 관한 문제라면 아래 예시처럼 JSON 형태로 데이터를 반환해 주세요.\n",
    "\n",
    "<예시데이터>\n",
    "{{\n",
    "    \"문제 종류\" : \"내전근 통증\", \n",
    "    \"문제 내용\" : \"고객은 2주 동안 축구를 하다 스프린트를 시작할 때 왼쪽 내전근에 심한 통증을 겪었습니다. 아이싱과 마사지를 했으나, 통증은 계속되고 있습니다.\"\n",
    "}}\n",
    "\"\"\"\n",
    "\n",
    "    response = client.chat.completions.create(\n",
    "        model=\"gpt-4\",\n",
    "        messages=[{\"role\": \"user\", \"content\": prompt}]\n",
    "    )\n",
    "\n",
    "    return response.choices[0].message.content.strip()"
   ]
  },
  {
   "cell_type": "code",
   "execution_count": 37,
   "id": "e46a7354",
   "metadata": {},
   "outputs": [
    {
     "name": "stdout",
     "output_type": "stream",
     "text": [
      "Client: 아킬레스\n",
      "Problem: {\n",
      "    \"문제 종류\" : \"아킬레스 통증\", \n",
      "    \"문제 내용\" : \"고객은 아킬레스 통증 관리를 위해 가장 빠른 회복 방법과 세미나에 관한 정보를 찾고 있습니다.\"\n",
      "}\n"
     ]
    }
   ],
   "source": [
    "# ✅ 실행 예시 (첫 번째 고객만)\n",
    "result = extract_problem_from_customer_dialogue(data[1])\n",
    "print(f\"Client: {data[1]['client']}\\nProblem: {result}\")"
   ]
  },
  {
   "cell_type": "code",
   "execution_count": 38,
   "id": "1d350bbd",
   "metadata": {},
   "outputs": [
    {
     "name": "stderr",
     "output_type": "stream",
     "text": [
      "  2%|▏         | 1/55 [00:05<04:35,  5.11s/it]"
     ]
    },
    {
     "name": "stdout",
     "output_type": "stream",
     "text": [
      "✅ Client: .\n",
      "Problem: {\n",
      "    \"문제 종류\" : \"내전근 통증\", \n",
      "    \"문제 내용\" : \"고객은 2주 동안 축구를 하다 스프린트를 시작할 때 왼쪽 내전근에 심한 통증을 겪었습니다. 아이싱과 마사지를 했으나, 통증은 계속되고 있습니다.\"\n",
      "}\n"
     ]
    },
    {
     "name": "stderr",
     "output_type": "stream",
     "text": [
      "  4%|▎         | 2/55 [00:10<04:37,  5.23s/it]"
     ]
    },
    {
     "name": "stdout",
     "output_type": "stream",
     "text": [
      "✅ Client: 아킬레스\n",
      "Problem: {\n",
      "    \"문제 종류\" : \"아킬레스 통증\", \n",
      "    \"문제 내용\" : \"고객은 아킬레스 통증 관리에 대한 방법을 알고 싶어하고, 회복을 가속화 할 수 있는 다양한 방법을 알아보고자 합니다.\"\n",
      "}\n"
     ]
    },
    {
     "name": "stderr",
     "output_type": "stream",
     "text": [
      "  7%|▋         | 4/55 [00:18<04:03,  4.78s/it]"
     ]
    },
    {
     "name": "stdout",
     "output_type": "stream",
     "text": [
      "✅ Client: 신난 어피치\n",
      "Problem: {\n",
      "    \"문제 종류\" : \"왼쪽 고관절의 염증 및 힘줄 짧음\", \n",
      "    \"문제 내용\" : \"고객은 왼쪽 고관절에 염증이 발생했으며, 엑스레이 결과 힘줄이 짧아진 상태로 나타났습니다. 의사의 스트레칭 권유에도 불구하고 치료 후 회복이 잘 이루어지지 않고 있습니다.\"\n",
      "}\n"
     ]
    },
    {
     "name": "stderr",
     "output_type": "stream",
     "text": [
      "  9%|▉         | 5/55 [00:23<04:05,  4.91s/it]"
     ]
    },
    {
     "name": "stdout",
     "output_type": "stream",
     "text": [
      "✅ Client: 부탁하는 네오\n",
      "Problem: {\n",
      "    \"문제 종류\" : \"무릎 통증과 반월판 부분파열\", \n",
      "    \"문제 내용\" : \"고객은 무릎의 전체적인 통증이 심하며, 반월판에 부분파열이 일어났다고 합니다. 이에 따라 스트레칭과 재활운동법에 대한 정보를 요청하였습니다.\"\n",
      "}\n"
     ]
    },
    {
     "name": "stderr",
     "output_type": "stream",
     "text": [
      " 11%|█         | 6/55 [00:31<04:45,  5.82s/it]"
     ]
    },
    {
     "name": "stdout",
     "output_type": "stream",
     "text": [
      "✅ Client: 비골골절\n",
      "Problem: {\n",
      "    \"문제 종류\" : \"재골절 및 발목 관련 통증\", \n",
      "    \"문제 내용\" : \"고객은 작년 3월에 비골 골절로 수술을 하고, 11월에 철심 제거를 한 이후에 이번 1월에 재골절이 발생하였습니다. 또한, 발목 안쪽 복숭아 뼈 인대를 같이 다치고 발목 안쪽 각도가 잘 나오지 않아 통증이 있으며, 이에 대한 적절한 재활 방법에 대해 문의하였습니다.\"\n",
      "}\n"
     ]
    },
    {
     "name": "stderr",
     "output_type": "stream",
     "text": [
      " 13%|█▎        | 7/55 [00:37<04:40,  5.85s/it]"
     ]
    },
    {
     "name": "stdout",
     "output_type": "stream",
     "text": [
      "✅ Client: 콘이 웃긴 무지\n",
      "Problem: {\n",
      "    \"문제 종류\" : \"발목 상비골지대 봉합수술 후 회복\", \n",
      "    \"문제 내용\" : \"고객은 최근에 오른쪽 발목 상비골지대 봉합수술을 받았습니다. 그리고 현재는 재활이나 회복, 발목 강화에 도움이 될 수 있는 방법들에 대해 문의하였습니다.\"\n",
      "}\n"
     ]
    },
    {
     "name": "stderr",
     "output_type": "stream",
     "text": [
      " 15%|█▍        | 8/55 [00:44<05:02,  6.43s/it]"
     ]
    },
    {
     "name": "stdout",
     "output_type": "stream",
     "text": [
      "✅ Client: 대퇴직근\n",
      "Problem: {\n",
      "    \"문제 종류\" : \"삼각인대 및 근육 통증\", \n",
      "    \"문제 내용\" : \"고객은 왼발 삼각인대와 오른쪽 사타구니 직근을 다쳐 킥이나 슈팅을 제대로 수행하지 못하고 있습니다. 특히 삼각인대는 2달 전부터, 사타구니 직근은 3달 전부터 통증이 있었습니다. 치료 방법과 재활운동, 테이핑을 배우려고 합니다.\"\n",
      "}\n"
     ]
    },
    {
     "name": "stderr",
     "output_type": "stream",
     "text": [
      " 16%|█▋        | 9/55 [00:45<03:36,  4.71s/it]"
     ]
    },
    {
     "name": "stdout",
     "output_type": "stream",
     "text": [
      "✅ Client: 콘이 웃긴 무지\n",
      "Problem: \"문제없음\"\n"
     ]
    },
    {
     "name": "stderr",
     "output_type": "stream",
     "text": [
      " 18%|█▊        | 10/55 [00:49<03:13,  4.30s/it]"
     ]
    },
    {
     "name": "stdout",
     "output_type": "stream",
     "text": [
      "✅ Client: 남유영\n",
      "Problem: {\n",
      "    \"문제 종류\" : [\"아킬레스건염\",\"손목힘줄염\"], \n",
      "    \"문제 내용\" : \"고객은 아킬레스건염과 손목힘줄염 진단을 받았습니다. 손목 문제는 몇 개월 전부터 시작되었습니다.\"\n",
      "}\n"
     ]
    },
    {
     "name": "stderr",
     "output_type": "stream",
     "text": [
      " 20%|██        | 11/55 [00:49<02:22,  3.23s/it]"
     ]
    },
    {
     "name": "stdout",
     "output_type": "stream",
     "text": [
      "✅ Client: 척척박사\n",
      "Problem: \"문제없음\"\n"
     ]
    },
    {
     "name": "stderr",
     "output_type": "stream",
     "text": [
      " 22%|██▏       | 12/55 [00:57<03:19,  4.65s/it]"
     ]
    },
    {
     "name": "stdout",
     "output_type": "stream",
     "text": [
      "✅ Client: 베개를 부비적대는 라이언\n",
      "Problem: {\n",
      "    \"문제 종류\" : \"하체 통증\", \n",
      "    \"문제 내용\" : \"고객은 2년 동안 하체 통증으로 고생하였으며, 매번 새로운 부위에서 통증이 발생했습니다. 받은 진단은 대개 힘줄염, 염증 등이었습니다. 특히 족저근막염, 허리, 무릎, 발바닥, 오른쪽 어깨 부위와 햄스트링, 대퇴사두근 부위에서 가장 고통을 겪었습니다. 그러나 통증이 계속되는 상태에서 큰 변화를 얻지 못했습니다.\"\n",
      "}\n"
     ]
    },
    {
     "name": "stderr",
     "output_type": "stream",
     "text": [
      " 24%|██▎       | 13/55 [01:02<03:14,  4.63s/it]"
     ]
    },
    {
     "name": "stdout",
     "output_type": "stream",
     "text": [
      "✅ Client: 기타치는 튜브\n",
      "Problem: {\n",
      "    \"문제 종류\" : \"만성 통증\", \n",
      "    \"문제 내용\" : \"고객의 남편이 운동을 하지는 않지만 종아리, 어깨, 목 부분에 매일 통증이 있다. 도수치료를 받아봤지만 병명은 나오지 않고, 통증도 호전되지 않았다.\"\n",
      "}\n"
     ]
    },
    {
     "name": "stderr",
     "output_type": "stream",
     "text": [
      " 25%|██▌       | 14/55 [01:03<02:24,  3.52s/it]"
     ]
    },
    {
     "name": "stdout",
     "output_type": "stream",
     "text": [
      "✅ Client: 베개를 부비적대는 라이언\n",
      "Problem: \"문제없음\"\n"
     ]
    },
    {
     "name": "stderr",
     "output_type": "stream",
     "text": [
      " 29%|██▉       | 16/55 [01:05<01:30,  2.33s/it]"
     ]
    },
    {
     "name": "stdout",
     "output_type": "stream",
     "text": [
      "✅ Client: 베개를 부비적대는 라이언\n",
      "Problem: \"문제없음\"\n"
     ]
    },
    {
     "name": "stderr",
     "output_type": "stream",
     "text": [
      " 31%|███       | 17/55 [01:06<01:15,  2.00s/it]"
     ]
    },
    {
     "name": "stdout",
     "output_type": "stream",
     "text": [
      "✅ Client: 기타치는 튜브\n",
      "Problem: \"문제없음\"\n"
     ]
    },
    {
     "name": "stderr",
     "output_type": "stream",
     "text": [
      " 35%|███▍      | 19/55 [01:08<00:50,  1.40s/it]"
     ]
    },
    {
     "name": "stdout",
     "output_type": "stream",
     "text": [
      "✅ Client: 기타치는 튜브\n",
      "Problem: \"문제없음\"\n"
     ]
    },
    {
     "name": "stderr",
     "output_type": "stream",
     "text": [
      " 36%|███▋      | 20/55 [01:09<00:42,  1.22s/it]"
     ]
    },
    {
     "name": "stdout",
     "output_type": "stream",
     "text": [
      "✅ Client: 승찬\n",
      "Problem: \"문제없음\"\n"
     ]
    },
    {
     "name": "stderr",
     "output_type": "stream",
     "text": [
      " 38%|███▊      | 21/55 [01:15<01:29,  2.64s/it]"
     ]
    },
    {
     "name": "stdout",
     "output_type": "stream",
     "text": [
      "✅ Client: 축구하는 러너\n",
      "Problem: {\n",
      "    \"문제 종류\" : \"평발 및 통증\", \n",
      "    \"문제 내용\" : \"고객은 축구나 풋살을 한 후 오른발 아치와 복숭아뼈에 통증을 겪고 있습니다. 오른발만 평발이며, 교정 깔창을 착용하면 통증이 완화되었지만 다시 통증이 발생하고 있습니다. 통증의 원인은 평발이 아니라 전체적인 과부하오 허리, 골반에서 일어나고 있을 수 있다고 전문가는 진단하였음.\"\n",
      "}\n"
     ]
    },
    {
     "name": "stderr",
     "output_type": "stream",
     "text": [
      " 40%|████      | 22/55 [01:18<01:32,  2.80s/it]"
     ]
    },
    {
     "name": "stdout",
     "output_type": "stream",
     "text": [
      "✅ Client: 베개를 부비적대는 라이언\n",
      "Problem: {\n",
      "    \"문제 종류\" : \"아치 무너짐\", \n",
      "    \"문제 내용\" : \"고객은 양쪽 발 아치 안쪽이 무너져 있어서 고생하고 있다고 합니다.\"\n",
      "}\n"
     ]
    },
    {
     "name": "stderr",
     "output_type": "stream",
     "text": [
      " 42%|████▏     | 23/55 [01:21<01:36,  3.01s/it]"
     ]
    },
    {
     "name": "stdout",
     "output_type": "stream",
     "text": [
      "✅ Client: 축구하는 러너\n",
      "Problem: {\n",
      "    \"문제 종류\" : \"허리 골반 밸런스 불균형\", \n",
      "    \"문제 내용\" : \"고객의 허리 골반이 밸런스가 맞지 않아 문제가 되고 있습니다.\"\n",
      "}\n"
     ]
    },
    {
     "name": "stderr",
     "output_type": "stream",
     "text": [
      " 44%|████▎     | 24/55 [01:27<01:55,  3.73s/it]"
     ]
    },
    {
     "name": "stdout",
     "output_type": "stream",
     "text": [
      "✅ Client: 베개를 부비적대는 라이언\n",
      "Problem: {\n",
      "    \"문제 종류\" : \"염증 및 힘줄염\", \n",
      "    \"문제 내용\" : \"고객은 별다른 활동을 하지 않아도 자신의 몸이 무리라고 느껴 염증이나 힘줄염이 자주 발생합니다. 특히 허리가 아파서 오래 서있으면 한쪽 무릎에 하루 종일 부담감을 느낍니다.\"\n",
      "}\n"
     ]
    },
    {
     "name": "stderr",
     "output_type": "stream",
     "text": [
      " 45%|████▌     | 25/55 [01:28<01:28,  2.96s/it]"
     ]
    },
    {
     "name": "stdout",
     "output_type": "stream",
     "text": [
      "✅ Client: 사각근 통증\n",
      "Problem: \"문제없음\"\n"
     ]
    },
    {
     "name": "stderr",
     "output_type": "stream",
     "text": [
      " 47%|████▋     | 26/55 [01:32<01:35,  3.28s/it]"
     ]
    },
    {
     "name": "stdout",
     "output_type": "stream",
     "text": [
      "✅ Client: Lee Dong Kyu\n",
      "Problem: {\n",
      "    \"문제 종류\" : \"테니스 엘보 통증\", \n",
      "    \"문제 내용\" : \"고객은 테니스 엘보 통증에 대한 관리법을 알고 싶어하며, 여러 치료에도 불구하고 통증이 해결되지 않는 상황입니다.\"\n",
      "}\n"
     ]
    },
    {
     "name": "stderr",
     "output_type": "stream",
     "text": [
      " 49%|████▉     | 27/55 [01:36<01:39,  3.56s/it]"
     ]
    },
    {
     "name": "stdout",
     "output_type": "stream",
     "text": [
      "✅ Client: ㅎㅎ\n",
      "Problem: {\n",
      "    \"문제 종류\" : \"전방십자인대 수술 후 통증\", \n",
      "    \"문제 내용\" : \"고객은 전방십자인대 수술을 받았으며, 앞허벅지 힘을 주는 동작을 할 때 앞쪽에서 통증을 느끼고 있다.\"\n",
      "}\n"
     ]
    },
    {
     "name": "stderr",
     "output_type": "stream",
     "text": [
      " 51%|█████     | 28/55 [01:37<01:13,  2.73s/it]"
     ]
    },
    {
     "name": "stdout",
     "output_type": "stream",
     "text": [
      "✅ Client: Lee Dong Kyu\n",
      "Problem: \"문제없음\"\n"
     ]
    },
    {
     "name": "stderr",
     "output_type": "stream",
     "text": [
      " 53%|█████▎    | 29/55 [01:38<00:57,  2.23s/it]"
     ]
    },
    {
     "name": "stdout",
     "output_type": "stream",
     "text": [
      "✅ Client: 기타치는 튜브\n",
      "Problem: \"문제없음\"\n"
     ]
    },
    {
     "name": "stderr",
     "output_type": "stream",
     "text": [
      " 55%|█████▍    | 30/55 [01:41<01:02,  2.49s/it]"
     ]
    },
    {
     "name": "stdout",
     "output_type": "stream",
     "text": [
      "✅ Client: ㅎㅎ\n",
      "Problem: {\n",
      "    \"문제 종류\" : \"통증\", \n",
      "    \"문제 내용\" : \"고객은 병원에서의 재활을 끝마친 상태이나, 50일이 지나도 아직 통증이 남아있다고 합니다.\"\n",
      "}\n"
     ]
    },
    {
     "name": "stderr",
     "output_type": "stream",
     "text": [
      " 56%|█████▋    | 31/55 [01:44<01:02,  2.59s/it]"
     ]
    },
    {
     "name": "stdout",
     "output_type": "stream",
     "text": [
      "✅ Client: 블럭을 무너트리는 라이언\n",
      "Problem: {\n",
      "    \"문제 종류\" : \"관절 통증\", \n",
      "    \"문제 내용\" : \"고객은 굽히는 동작이나 자세를 취하면 특정 부위에 통증을 느끼고 있습니다.\"\n",
      "}\n"
     ]
    },
    {
     "name": "stderr",
     "output_type": "stream",
     "text": [
      " 58%|█████▊    | 32/55 [01:50<01:20,  3.50s/it]"
     ]
    },
    {
     "name": "stdout",
     "output_type": "stream",
     "text": [
      "✅ Client: ㅎㅎ\n",
      "Problem: {\n",
      "    \"문제 종류\" : \"손목 염좌\", \n",
      "    \"문제 내용\" : \"고객의 손목에 염좌가 있어서 지속적인 통증을 겪고 있습니다. 아픈 동작을 중단하고 아이싱 등의 처방을 받았으나, 계속해서 사용해야 하는 상황으로 인해 통증이 유지되고 있습니다.\"\n",
      "}\n"
     ]
    },
    {
     "name": "stderr",
     "output_type": "stream",
     "text": [
      " 60%|██████    | 33/55 [01:51<01:00,  2.77s/it]"
     ]
    },
    {
     "name": "stdout",
     "output_type": "stream",
     "text": [
      "✅ Client: 블럭을 무너트리는 라이언\n",
      "Problem: \"문제없음\"\n"
     ]
    },
    {
     "name": "stderr",
     "output_type": "stream",
     "text": [
      " 62%|██████▏   | 34/55 [01:56<01:11,  3.40s/it]"
     ]
    },
    {
     "name": "stdout",
     "output_type": "stream",
     "text": [
      "✅ Client: 베개를 부비적대는 라이언\n",
      "Problem: {\n",
      "    \"문제 종류\" : \"아이싱 시간 설정 문제\", \n",
      "    \"문제 내용\" : \"고객이 아이싱을 너무 오래 (10~15분) 하고 있었음. 아이싱은 5분이하로 짧게 집중적으로 하여 통증을 줄여야 한다는 전문가의 조언에 새로이 대처 방안을 알게 되었다.\"\n",
      "}\n"
     ]
    },
    {
     "name": "stderr",
     "output_type": "stream",
     "text": [
      " 64%|██████▎   | 35/55 [01:58<01:02,  3.12s/it]"
     ]
    },
    {
     "name": "stdout",
     "output_type": "stream",
     "text": [
      "✅ Client: 하트뿅뿅 라이언\n",
      "Problem: {\n",
      "    \"문제 종류\" : \"손목 인대 손상\", \n",
      "    \"문제 내용\" : \"고객은 손목 인대 손상으로 인해 PRP 주사를 맞고 있지만, 아직도 통증이 있습니다.\"\n",
      "}\n"
     ]
    },
    {
     "name": "stderr",
     "output_type": "stream",
     "text": [
      " 65%|██████▌   | 36/55 [02:02<01:03,  3.36s/it]"
     ]
    },
    {
     "name": "stdout",
     "output_type": "stream",
     "text": [
      "✅ Client: fortune\n",
      "Problem: {\n",
      "    \"문제 종류\" : \"왼쪽 기립근 통증\", \n",
      "    \"문제 내용\" : \"고객은 왼쪽 기립근 바깥쪽에 지속적인 통증을 겪고 있으며, 장요근이 문제일 수 있을지 의심하고 있습니다.\"\n",
      "}\n"
     ]
    },
    {
     "name": "stderr",
     "output_type": "stream",
     "text": [
      " 67%|██████▋   | 37/55 [02:07<01:10,  3.92s/it]"
     ]
    },
    {
     "name": "stdout",
     "output_type": "stream",
     "text": [
      "✅ Client: 아키레\n",
      "Problem: {\n",
      "    \"문제 종류\" : \"아킬레스건 통증\", \n",
      "    \"문제 내용\" : \"마라톤 선수였던 고객이 휴식 중에도 아킬레스부착부 발달이 되어 통증을 느끼고 있다. 아픈 부분은 아킬레스건이며 특히 아킬레스건이 시작되는 부위에 통증이 있다.\"\n",
      "}\n"
     ]
    },
    {
     "name": "stderr",
     "output_type": "stream",
     "text": [
      " 69%|██████▉   | 38/55 [02:14<01:20,  4.76s/it]"
     ]
    },
    {
     "name": "stdout",
     "output_type": "stream",
     "text": [
      "✅ Client: 발목통증\n",
      "Problem: {\n",
      "    \"문제 종류\" : \"발목 인대 파열 후 통증\", \n",
      "    \"문제 내용\" : \"고객은 발목 부분을 파열해 2달 동안 쉬었습니다. 다시 운동을 시작하려고 하는데 발목 바깥쪽 복숭아 뼈 뒷쪽 인대가 아직 괜찮아지지 않았고 통증을 느끼고 있습니다.\"\n",
      "}\n"
     ]
    },
    {
     "name": "stderr",
     "output_type": "stream",
     "text": [
      " 73%|███████▎  | 40/55 [02:19<00:55,  3.72s/it]"
     ]
    },
    {
     "name": "stdout",
     "output_type": "stream",
     "text": [
      "✅ Client: 권투하는 무지\n",
      "Problem: {\n",
      "    \"문제 종류\" : \"어깨 통증\", \n",
      "    \"문제 내용\" : \"고객이 턱걸이를 하다가 어깨에서 소리가 난 후 다음날부터 손을 위로 뻗을 때마다 어깨가 아프다고 합니다.\"\n",
      "}\n"
     ]
    },
    {
     "name": "stderr",
     "output_type": "stream",
     "text": [
      " 75%|███████▍  | 41/55 [02:24<00:58,  4.20s/it]"
     ]
    },
    {
     "name": "stdout",
     "output_type": "stream",
     "text": [
      "✅ Client: 김지훈\n",
      "Problem: {\n",
      "    \"문제 종류\" : \"사타구니, 엉덩이, 허리 통증\", \n",
      "    \"문제 내용\" : \"고객은 최근 경기를 뛰고 나서 사타구니, 엉덩이, 허리 세 군데의 통증을 겪고 있습니다. 앉거나 뛸 때 통증이 있으며, 앞쪽 근육을 늘리면 통증이 심해집니다.\"\n",
      "}\n"
     ]
    },
    {
     "name": "stderr",
     "output_type": "stream",
     "text": [
      " 76%|███████▋  | 42/55 [02:26<00:46,  3.57s/it]"
     ]
    },
    {
     "name": "stdout",
     "output_type": "stream",
     "text": [
      "✅ Client: 권투하는 무지\n",
      "Problem: {\n",
      "    \"문제 종류\" : \"부상\", \n",
      "    \"문제 내용\" : \"고객은 어제 저녁에 부상을 입었습니다.\"\n",
      "}\n"
     ]
    },
    {
     "name": "stderr",
     "output_type": "stream",
     "text": [
      " 80%|████████  | 44/55 [02:34<00:43,  3.92s/it]"
     ]
    },
    {
     "name": "stdout",
     "output_type": "stream",
     "text": [
      "✅ Client: 권투하는 무지\n",
      "Problem: {\n",
      "    \"문제 종류\" : \"골반 척추 및 고관절 통증\", \n",
      "    \"문제 내용\" : \"고객이 평소에 뛰지 않다가 갑자기 많이 뛸 정도로 활동해 척추 및 고관절 부위에 심한 통증을 겪고 있습니다. 고객은 3일 뒤에 경기에 참가해야 하는 상황이지만, 현재는 통증으로 인해 버틸 수 없는 상태입니다.\"\n",
      "}\n"
     ]
    },
    {
     "name": "stderr",
     "output_type": "stream",
     "text": [
      " 82%|████████▏ | 45/55 [02:37<00:37,  3.76s/it]"
     ]
    },
    {
     "name": "stdout",
     "output_type": "stream",
     "text": [
      "✅ Client: 음악듣는 어피치\n",
      "Problem: {\n",
      "    \"문제 종류\" : \"골프엘보\", \n",
      "    \"문제 내용\" : \"고객은 골프엘보에 대해 문제를 겪고 있고, 통증이 잘 나아지지 않아 해결방안을 찾고 있다.\"\n",
      "}\n"
     ]
    },
    {
     "name": "stderr",
     "output_type": "stream",
     "text": [
      " 84%|████████▎ | 46/55 [02:43<00:39,  4.42s/it]"
     ]
    },
    {
     "name": "stdout",
     "output_type": "stream",
     "text": [
      "✅ Client: 사각근 통증\n",
      "Problem: {\n",
      "    \"문제 종류\" : \"사각근 통증\", \n",
      "    \"문제 내용\" : \"고객은 사각근 통증을 오랫동안 겪고 있으며, 물리치료, 도수치료, 침 치료를 받았지만 크게 나아지지 않았습니다. 쇄골이 더 안보이고 딱딱하며 얽힌듯한 힘줄들이 보이며, 가방을 오래 메고 있다면 팔이 저리는 현상이 있습니다. 어깨를 위로 들어올리는 것이 불편합니다.\"\n",
      "}\n"
     ]
    },
    {
     "name": "stderr",
     "output_type": "stream",
     "text": [
      " 85%|████████▌ | 47/55 [02:48<00:37,  4.71s/it]"
     ]
    },
    {
     "name": "stdout",
     "output_type": "stream",
     "text": [
      "✅ Client: fortune\n",
      "Problem: {\n",
      "    \"문제 종류\" : \"어깨 전면 통증\", \n",
      "    \"문제 내용\" : \"고객은 수영을 하면서 어깨 전면 부분에 통증을 겪고 있습니다. 특히 물을 밀거나 팔을 들어 어깨 전면 운동을 할 때마다 통증이 있었다 없었다 합니다. 그러나 아픈 동작을 반복한 결과 통증이 잘 줄어들지 않고 유지하고 있습니다.\"\n",
      "}\n"
     ]
    },
    {
     "name": "stderr",
     "output_type": "stream",
     "text": [
      " 87%|████████▋ | 48/55 [02:55<00:36,  5.17s/it]"
     ]
    },
    {
     "name": "stdout",
     "output_type": "stream",
     "text": [
      "✅ Client: ㅡㅡ\n",
      "Problem: {\n",
      "    \"문제 종류\" : \"신경통 및 통증\", \n",
      "    \"문제 내용\" : \"고객님의 오른쪽 뒷다리와 엉덩이에 신경통이 있어 허리까지 통증이 옵니다. 이 통증은 약처리로 일시적으로 완화되었으나, 다시 재발하였습니다. 이는 원인이 허리협착이나 신경이 눌리는 증상일 수 있으며, 다른 관절 문제도 함께 존재할 수 있다고 의사는 말하였습니다.\"\n",
      "}\n"
     ]
    },
    {
     "name": "stderr",
     "output_type": "stream",
     "text": [
      " 89%|████████▉ | 49/55 [02:59<00:29,  4.94s/it]"
     ]
    },
    {
     "name": "stdout",
     "output_type": "stream",
     "text": [
      "✅ Client: 베개를 부비적대는 라이언\n",
      "Problem: {\n",
      "    \"문제 종류\" : \"영상진단 필요\", \n",
      "    \"문제 내용\" : \"고객은 1달 동안 알 수 없는 부위에 통증을 소지하고 있습니다. 약물 치료 외에 얼음을 대는 등의 보존 치료를 시도하였으나 효과가 없었습니다. 특히, 부위에 힘이 들어갈 경우 통증이 재발합니다.\"\n",
      "}\n"
     ]
    },
    {
     "name": "stderr",
     "output_type": "stream",
     "text": [
      " 91%|█████████ | 50/55 [03:00<00:19,  3.83s/it]"
     ]
    },
    {
     "name": "stdout",
     "output_type": "stream",
     "text": [
      "✅ Client: 레전사\n",
      "Problem: \"문제없음\"\n"
     ]
    },
    {
     "name": "stderr",
     "output_type": "stream",
     "text": [
      " 93%|█████████▎| 51/55 [03:06<00:17,  4.40s/it]"
     ]
    },
    {
     "name": "stdout",
     "output_type": "stream",
     "text": [
      "✅ Client: 박승민\n",
      "Problem: {\n",
      "    \"문제 종류\" : \"팔꿈치 완전파열 수술 후 회복\", \n",
      "    \"문제 내용\" : \"고객은 팔꿈치 내측인대 완전파열로 접합수술을 받은지 3달이 되었지만 아직 팔꿈치가 완전히 펴지지 않는 문제를 겪고 있습니다. 직업상 운동(유도)를 계속하고, 다음 달에 시험도 있어 증상 완화 방법을 찾고 있습니다.\"\n",
      "}\n"
     ]
    },
    {
     "name": "stderr",
     "output_type": "stream",
     "text": [
      " 95%|█████████▍| 52/55 [03:14<00:16,  5.38s/it]"
     ]
    },
    {
     "name": "stdout",
     "output_type": "stream",
     "text": [
      "✅ Client: ㅡㅡ\n",
      "Problem: {\n",
      "    \"문제 종류\" : \"엄지발 밑 힘줄 염증\", \n",
      "    \"문제 내용\" : \"고객은 일상생활 중 계속 발을 딛게 돼 힘줄 염증이 잘 줄지 않는 상황입니다. 통증 부위를 별도로 경감해주는 마사지나 스트레칭을 했지만, 하루 한번 이상 아픈 동작을 하면 통증이 이틀 더 지속된다고 합니다. 계속 아이싱을 해야만 문제가 해결될것이라고 언급하였습니다.\"\n",
      "}\n"
     ]
    },
    {
     "name": "stderr",
     "output_type": "stream",
     "text": [
      " 96%|█████████▋| 53/55 [03:15<00:08,  4.01s/it]"
     ]
    },
    {
     "name": "stdout",
     "output_type": "stream",
     "text": [
      "✅ Client: 베개를 부비적대는 라이언\n",
      "Problem: \"문제없음\"\n"
     ]
    },
    {
     "name": "stderr",
     "output_type": "stream",
     "text": [
      " 98%|█████████▊| 54/55 [03:19<00:04,  4.28s/it]"
     ]
    },
    {
     "name": "stdout",
     "output_type": "stream",
     "text": [
      "✅ Client: 박승민\n",
      "Problem: {\n",
      "    \"문제 종류\" : \"운동 제한\", \n",
      "    \"문제 내용\" : \"고객은 일정 범위 이상으로 운동할 수 없는 제한이 있습니다. 보통 0도에서 -5도 정도가 정상 범위이지만 고객은 3~5도까지만 가능하며, 이로 인해 나중에 운동하거나 할 때 지장을 겪을까 염려하고 있습니다.\"\n",
      "}\n"
     ]
    },
    {
     "name": "stderr",
     "output_type": "stream",
     "text": [
      "100%|██████████| 55/55 [03:27<00:00,  3.78s/it]"
     ]
    },
    {
     "name": "stdout",
     "output_type": "stream",
     "text": [
      "✅ Client: 베개를 부비적대는 라이언\n",
      "Problem: {\n",
      "    \"문제 종류\" : \"몸의 초기화 및 통증 관리\", \n",
      "    \"문제 내용\" : \"현재 고객은 몸이 초기화되면 가진 통증들이 사라질지, 초기화 후에 운동이 가능한지, 그리고 치료 이전에 했던 축구와 런닝 등의 활동을 할 수 있는지 궁금해하고 있습니다. 또한 고객은 몸의 초기화를 위해 얼마나 많은 시간이 소요되는지, 예약 방법 및 치료 시간에 대한 정보를 원합니다. 구조적 문제에 대한 치료 가능성 또한 질문하였습니다.\"\n",
      "}\n"
     ]
    },
    {
     "name": "stderr",
     "output_type": "stream",
     "text": [
      "\n"
     ]
    }
   ],
   "source": [
    "from tqdm import tqdm\n",
    "\n",
    "kakao_data = []\n",
    "\n",
    "for item in tqdm(data):\n",
    "    result = extract_problem_from_customer_dialogue(item)\n",
    "\n",
    "    if result == \"문제없음\":\n",
    "        continue\n",
    "    \n",
    "    clean_data = {\"problem\" : result, \"solution\": \"\"}\n",
    "    kakao_data.append(clean_data)\n",
    "\n",
    "    print(f\"✅ Client: {item['client']}\\nProblem: {result}\")\n"
   ]
  },
  {
   "cell_type": "code",
   "execution_count": 41,
   "id": "59e3942b",
   "metadata": {},
   "outputs": [
    {
     "data": {
      "text/html": [
       "<div>\n",
       "<style scoped>\n",
       "    .dataframe tbody tr th:only-of-type {\n",
       "        vertical-align: middle;\n",
       "    }\n",
       "\n",
       "    .dataframe tbody tr th {\n",
       "        vertical-align: top;\n",
       "    }\n",
       "\n",
       "    .dataframe thead th {\n",
       "        text-align: right;\n",
       "    }\n",
       "</style>\n",
       "<table border=\"1\" class=\"dataframe\">\n",
       "  <thead>\n",
       "    <tr style=\"text-align: right;\">\n",
       "      <th></th>\n",
       "      <th>문제 종류</th>\n",
       "      <th>문제 내용</th>\n",
       "      <th>solution</th>\n",
       "    </tr>\n",
       "  </thead>\n",
       "  <tbody>\n",
       "    <tr>\n",
       "      <th>0</th>\n",
       "      <td>내전근 통증</td>\n",
       "      <td>고객은 2주 동안 축구를 하다 스프린트를 시작할 때 왼쪽 내전근에 심한 통증을 겪었...</td>\n",
       "      <td></td>\n",
       "    </tr>\n",
       "    <tr>\n",
       "      <th>1</th>\n",
       "      <td>아킬레스 통증</td>\n",
       "      <td>고객은 아킬레스 통증 관리에 대한 방법을 알고 싶어하고, 회복을 가속화 할 수 있는...</td>\n",
       "      <td></td>\n",
       "    </tr>\n",
       "    <tr>\n",
       "      <th>2</th>\n",
       "      <td>왼쪽 고관절의 염증 및 힘줄 짧음</td>\n",
       "      <td>고객은 왼쪽 고관절에 염증이 발생했으며, 엑스레이 결과 힘줄이 짧아진 상태로 나타났...</td>\n",
       "      <td></td>\n",
       "    </tr>\n",
       "    <tr>\n",
       "      <th>3</th>\n",
       "      <td>무릎 통증과 반월판 부분파열</td>\n",
       "      <td>고객은 무릎의 전체적인 통증이 심하며, 반월판에 부분파열이 일어났다고 합니다. 이에...</td>\n",
       "      <td></td>\n",
       "    </tr>\n",
       "    <tr>\n",
       "      <th>4</th>\n",
       "      <td>재골절 및 발목 관련 통증</td>\n",
       "      <td>고객은 작년 3월에 비골 골절로 수술을 하고, 11월에 철심 제거를 한 이후에 이번...</td>\n",
       "      <td></td>\n",
       "    </tr>\n",
       "  </tbody>\n",
       "</table>\n",
       "</div>"
      ],
      "text/plain": [
       "                문제 종류                                              문제 내용  \\\n",
       "0              내전근 통증  고객은 2주 동안 축구를 하다 스프린트를 시작할 때 왼쪽 내전근에 심한 통증을 겪었...   \n",
       "1             아킬레스 통증  고객은 아킬레스 통증 관리에 대한 방법을 알고 싶어하고, 회복을 가속화 할 수 있는...   \n",
       "2  왼쪽 고관절의 염증 및 힘줄 짧음  고객은 왼쪽 고관절에 염증이 발생했으며, 엑스레이 결과 힘줄이 짧아진 상태로 나타났...   \n",
       "3     무릎 통증과 반월판 부분파열  고객은 무릎의 전체적인 통증이 심하며, 반월판에 부분파열이 일어났다고 합니다. 이에...   \n",
       "4      재골절 및 발목 관련 통증  고객은 작년 3월에 비골 골절로 수술을 하고, 11월에 철심 제거를 한 이후에 이번...   \n",
       "\n",
       "  solution  \n",
       "0           \n",
       "1           \n",
       "2           \n",
       "3           \n",
       "4           "
      ]
     },
     "execution_count": 41,
     "metadata": {},
     "output_type": "execute_result"
    }
   ],
   "source": [
    "import json\n",
    "import pandas as pd\n",
    "\n",
    "# 파싱된 결과 저장\n",
    "parsed = []\n",
    "\n",
    "for item in kakao_data:\n",
    "    problem_raw = item[\"problem\"]\n",
    "    try:\n",
    "        parsed_json = json.loads(problem_raw)\n",
    "        if isinstance(parsed_json, dict):\n",
    "            parsed.append({\n",
    "                \"문제 종류\": parsed_json.get(\"문제 종류\", \"\"),\n",
    "                \"문제 내용\": parsed_json.get(\"문제 내용\", \"\"),\n",
    "                \"solution\": item[\"solution\"]\n",
    "            })\n",
    "        else:\n",
    "            parsed.append({\n",
    "                \"문제 종류\": \"없음\",\n",
    "                \"문제 내용\": str(parsed_json),\n",
    "                \"solution\": item[\"solution\"]\n",
    "            })\n",
    "    except json.JSONDecodeError:\n",
    "        parsed.append({\n",
    "            \"문제 종류\": \"없음\",\n",
    "            \"문제 내용\": problem_raw.strip('\"'),\n",
    "            \"solution\": item[\"solution\"]\n",
    "        })\n",
    "\n",
    "# DataFrame으로 변환 및 저장\n",
    "df = pd.DataFrame(parsed)\n",
    "df.head()\n"
   ]
  },
  {
   "cell_type": "code",
   "execution_count": 44,
   "id": "9ade0f82",
   "metadata": {},
   "outputs": [
    {
     "data": {
      "text/html": [
       "<div>\n",
       "<style scoped>\n",
       "    .dataframe tbody tr th:only-of-type {\n",
       "        vertical-align: middle;\n",
       "    }\n",
       "\n",
       "    .dataframe tbody tr th {\n",
       "        vertical-align: top;\n",
       "    }\n",
       "\n",
       "    .dataframe thead th {\n",
       "        text-align: right;\n",
       "    }\n",
       "</style>\n",
       "<table border=\"1\" class=\"dataframe\">\n",
       "  <thead>\n",
       "    <tr style=\"text-align: right;\">\n",
       "      <th></th>\n",
       "      <th>문제 종류</th>\n",
       "      <th>문제 내용</th>\n",
       "      <th>solution</th>\n",
       "    </tr>\n",
       "  </thead>\n",
       "  <tbody>\n",
       "    <tr>\n",
       "      <th>0</th>\n",
       "      <td>내전근 통증</td>\n",
       "      <td>고객은 2주 동안 축구를 하다 스프린트를 시작할 때 왼쪽 내전근에 심한 통증을 겪었...</td>\n",
       "      <td></td>\n",
       "    </tr>\n",
       "    <tr>\n",
       "      <th>1</th>\n",
       "      <td>아킬레스 통증</td>\n",
       "      <td>고객은 아킬레스 통증 관리에 대한 방법을 알고 싶어하고, 회복을 가속화 할 수 있는...</td>\n",
       "      <td></td>\n",
       "    </tr>\n",
       "    <tr>\n",
       "      <th>2</th>\n",
       "      <td>왼쪽 고관절의 염증 및 힘줄 짧음</td>\n",
       "      <td>고객은 왼쪽 고관절에 염증이 발생했으며, 엑스레이 결과 힘줄이 짧아진 상태로 나타났...</td>\n",
       "      <td></td>\n",
       "    </tr>\n",
       "    <tr>\n",
       "      <th>3</th>\n",
       "      <td>무릎 통증과 반월판 부분파열</td>\n",
       "      <td>고객은 무릎의 전체적인 통증이 심하며, 반월판에 부분파열이 일어났다고 합니다. 이에...</td>\n",
       "      <td></td>\n",
       "    </tr>\n",
       "    <tr>\n",
       "      <th>4</th>\n",
       "      <td>재골절 및 발목 관련 통증</td>\n",
       "      <td>고객은 작년 3월에 비골 골절로 수술을 하고, 11월에 철심 제거를 한 이후에 이번...</td>\n",
       "      <td></td>\n",
       "    </tr>\n",
       "    <tr>\n",
       "      <th>5</th>\n",
       "      <td>발목 상비골지대 봉합수술 후 회복</td>\n",
       "      <td>고객은 최근에 오른쪽 발목 상비골지대 봉합수술을 받았습니다. 그리고 현재는 재활이나...</td>\n",
       "      <td></td>\n",
       "    </tr>\n",
       "    <tr>\n",
       "      <th>6</th>\n",
       "      <td>삼각인대 및 근육 통증</td>\n",
       "      <td>고객은 왼발 삼각인대와 오른쪽 사타구니 직근을 다쳐 킥이나 슈팅을 제대로 수행하지 ...</td>\n",
       "      <td></td>\n",
       "    </tr>\n",
       "    <tr>\n",
       "      <th>8</th>\n",
       "      <td>[아킬레스건염, 손목힘줄염]</td>\n",
       "      <td>고객은 아킬레스건염과 손목힘줄염 진단을 받았습니다. 손목 문제는 몇 개월 전부터 시...</td>\n",
       "      <td></td>\n",
       "    </tr>\n",
       "    <tr>\n",
       "      <th>10</th>\n",
       "      <td>하체 통증</td>\n",
       "      <td>고객은 2년 동안 하체 통증으로 고생하였으며, 매번 새로운 부위에서 통증이 발생했습...</td>\n",
       "      <td></td>\n",
       "    </tr>\n",
       "    <tr>\n",
       "      <th>11</th>\n",
       "      <td>만성 통증</td>\n",
       "      <td>고객의 남편이 운동을 하지는 않지만 종아리, 어깨, 목 부분에 매일 통증이 있다. ...</td>\n",
       "      <td></td>\n",
       "    </tr>\n",
       "    <tr>\n",
       "      <th>17</th>\n",
       "      <td>평발 및 통증</td>\n",
       "      <td>고객은 축구나 풋살을 한 후 오른발 아치와 복숭아뼈에 통증을 겪고 있습니다. 오른발...</td>\n",
       "      <td></td>\n",
       "    </tr>\n",
       "    <tr>\n",
       "      <th>18</th>\n",
       "      <td>아치 무너짐</td>\n",
       "      <td>고객은 양쪽 발 아치 안쪽이 무너져 있어서 고생하고 있다고 합니다.</td>\n",
       "      <td></td>\n",
       "    </tr>\n",
       "    <tr>\n",
       "      <th>19</th>\n",
       "      <td>허리 골반 밸런스 불균형</td>\n",
       "      <td>고객의 허리 골반이 밸런스가 맞지 않아 문제가 되고 있습니다.</td>\n",
       "      <td></td>\n",
       "    </tr>\n",
       "    <tr>\n",
       "      <th>20</th>\n",
       "      <td>염증 및 힘줄염</td>\n",
       "      <td>고객은 별다른 활동을 하지 않아도 자신의 몸이 무리라고 느껴 염증이나 힘줄염이 자주...</td>\n",
       "      <td></td>\n",
       "    </tr>\n",
       "    <tr>\n",
       "      <th>22</th>\n",
       "      <td>테니스 엘보 통증</td>\n",
       "      <td>고객은 테니스 엘보 통증에 대한 관리법을 알고 싶어하며, 여러 치료에도 불구하고 통...</td>\n",
       "      <td></td>\n",
       "    </tr>\n",
       "    <tr>\n",
       "      <th>23</th>\n",
       "      <td>전방십자인대 수술 후 통증</td>\n",
       "      <td>고객은 전방십자인대 수술을 받았으며, 앞허벅지 힘을 주는 동작을 할 때 앞쪽에서 통...</td>\n",
       "      <td></td>\n",
       "    </tr>\n",
       "    <tr>\n",
       "      <th>26</th>\n",
       "      <td>통증</td>\n",
       "      <td>고객은 병원에서의 재활을 끝마친 상태이나, 50일이 지나도 아직 통증이 남아있다고 ...</td>\n",
       "      <td></td>\n",
       "    </tr>\n",
       "    <tr>\n",
       "      <th>27</th>\n",
       "      <td>관절 통증</td>\n",
       "      <td>고객은 굽히는 동작이나 자세를 취하면 특정 부위에 통증을 느끼고 있습니다.</td>\n",
       "      <td></td>\n",
       "    </tr>\n",
       "    <tr>\n",
       "      <th>28</th>\n",
       "      <td>손목 염좌</td>\n",
       "      <td>고객의 손목에 염좌가 있어서 지속적인 통증을 겪고 있습니다. 아픈 동작을 중단하고 ...</td>\n",
       "      <td></td>\n",
       "    </tr>\n",
       "    <tr>\n",
       "      <th>30</th>\n",
       "      <td>아이싱 시간 설정 문제</td>\n",
       "      <td>고객이 아이싱을 너무 오래 (10~15분) 하고 있었음. 아이싱은 5분이하로 짧게 ...</td>\n",
       "      <td></td>\n",
       "    </tr>\n",
       "    <tr>\n",
       "      <th>31</th>\n",
       "      <td>손목 인대 손상</td>\n",
       "      <td>고객은 손목 인대 손상으로 인해 PRP 주사를 맞고 있지만, 아직도 통증이 있습니다.</td>\n",
       "      <td></td>\n",
       "    </tr>\n",
       "    <tr>\n",
       "      <th>32</th>\n",
       "      <td>왼쪽 기립근 통증</td>\n",
       "      <td>고객은 왼쪽 기립근 바깥쪽에 지속적인 통증을 겪고 있으며, 장요근이 문제일 수 있을...</td>\n",
       "      <td></td>\n",
       "    </tr>\n",
       "    <tr>\n",
       "      <th>33</th>\n",
       "      <td>아킬레스건 통증</td>\n",
       "      <td>마라톤 선수였던 고객이 휴식 중에도 아킬레스부착부 발달이 되어 통증을 느끼고 있다....</td>\n",
       "      <td></td>\n",
       "    </tr>\n",
       "    <tr>\n",
       "      <th>34</th>\n",
       "      <td>발목 인대 파열 후 통증</td>\n",
       "      <td>고객은 발목 부분을 파열해 2달 동안 쉬었습니다. 다시 운동을 시작하려고 하는데 발...</td>\n",
       "      <td></td>\n",
       "    </tr>\n",
       "    <tr>\n",
       "      <th>35</th>\n",
       "      <td>어깨 통증</td>\n",
       "      <td>고객이 턱걸이를 하다가 어깨에서 소리가 난 후 다음날부터 손을 위로 뻗을 때마다 어...</td>\n",
       "      <td></td>\n",
       "    </tr>\n",
       "    <tr>\n",
       "      <th>36</th>\n",
       "      <td>사타구니, 엉덩이, 허리 통증</td>\n",
       "      <td>고객은 최근 경기를 뛰고 나서 사타구니, 엉덩이, 허리 세 군데의 통증을 겪고 있습...</td>\n",
       "      <td></td>\n",
       "    </tr>\n",
       "    <tr>\n",
       "      <th>37</th>\n",
       "      <td>부상</td>\n",
       "      <td>고객은 어제 저녁에 부상을 입었습니다.</td>\n",
       "      <td></td>\n",
       "    </tr>\n",
       "    <tr>\n",
       "      <th>38</th>\n",
       "      <td>골반 척추 및 고관절 통증</td>\n",
       "      <td>고객이 평소에 뛰지 않다가 갑자기 많이 뛸 정도로 활동해 척추 및 고관절 부위에 심...</td>\n",
       "      <td></td>\n",
       "    </tr>\n",
       "    <tr>\n",
       "      <th>39</th>\n",
       "      <td>골프엘보</td>\n",
       "      <td>고객은 골프엘보에 대해 문제를 겪고 있고, 통증이 잘 나아지지 않아 해결방안을 찾고...</td>\n",
       "      <td></td>\n",
       "    </tr>\n",
       "    <tr>\n",
       "      <th>40</th>\n",
       "      <td>사각근 통증</td>\n",
       "      <td>고객은 사각근 통증을 오랫동안 겪고 있으며, 물리치료, 도수치료, 침 치료를 받았지...</td>\n",
       "      <td></td>\n",
       "    </tr>\n",
       "    <tr>\n",
       "      <th>41</th>\n",
       "      <td>어깨 전면 통증</td>\n",
       "      <td>고객은 수영을 하면서 어깨 전면 부분에 통증을 겪고 있습니다. 특히 물을 밀거나 팔...</td>\n",
       "      <td></td>\n",
       "    </tr>\n",
       "    <tr>\n",
       "      <th>42</th>\n",
       "      <td>신경통 및 통증</td>\n",
       "      <td>고객님의 오른쪽 뒷다리와 엉덩이에 신경통이 있어 허리까지 통증이 옵니다. 이 통증은...</td>\n",
       "      <td></td>\n",
       "    </tr>\n",
       "    <tr>\n",
       "      <th>43</th>\n",
       "      <td>영상진단 필요</td>\n",
       "      <td>고객은 1달 동안 알 수 없는 부위에 통증을 소지하고 있습니다. 약물 치료 외에 얼...</td>\n",
       "      <td></td>\n",
       "    </tr>\n",
       "    <tr>\n",
       "      <th>45</th>\n",
       "      <td>팔꿈치 완전파열 수술 후 회복</td>\n",
       "      <td>고객은 팔꿈치 내측인대 완전파열로 접합수술을 받은지 3달이 되었지만 아직 팔꿈치가 ...</td>\n",
       "      <td></td>\n",
       "    </tr>\n",
       "    <tr>\n",
       "      <th>46</th>\n",
       "      <td>엄지발 밑 힘줄 염증</td>\n",
       "      <td>고객은 일상생활 중 계속 발을 딛게 돼 힘줄 염증이 잘 줄지 않는 상황입니다. 통증...</td>\n",
       "      <td></td>\n",
       "    </tr>\n",
       "    <tr>\n",
       "      <th>48</th>\n",
       "      <td>운동 제한</td>\n",
       "      <td>고객은 일정 범위 이상으로 운동할 수 없는 제한이 있습니다. 보통 0도에서 -5도 ...</td>\n",
       "      <td></td>\n",
       "    </tr>\n",
       "    <tr>\n",
       "      <th>49</th>\n",
       "      <td>몸의 초기화 및 통증 관리</td>\n",
       "      <td>현재 고객은 몸이 초기화되면 가진 통증들이 사라질지, 초기화 후에 운동이 가능한지,...</td>\n",
       "      <td></td>\n",
       "    </tr>\n",
       "  </tbody>\n",
       "</table>\n",
       "</div>"
      ],
      "text/plain": [
       "                 문제 종류                                              문제 내용  \\\n",
       "0               내전근 통증  고객은 2주 동안 축구를 하다 스프린트를 시작할 때 왼쪽 내전근에 심한 통증을 겪었...   \n",
       "1              아킬레스 통증  고객은 아킬레스 통증 관리에 대한 방법을 알고 싶어하고, 회복을 가속화 할 수 있는...   \n",
       "2   왼쪽 고관절의 염증 및 힘줄 짧음  고객은 왼쪽 고관절에 염증이 발생했으며, 엑스레이 결과 힘줄이 짧아진 상태로 나타났...   \n",
       "3      무릎 통증과 반월판 부분파열  고객은 무릎의 전체적인 통증이 심하며, 반월판에 부분파열이 일어났다고 합니다. 이에...   \n",
       "4       재골절 및 발목 관련 통증  고객은 작년 3월에 비골 골절로 수술을 하고, 11월에 철심 제거를 한 이후에 이번...   \n",
       "5   발목 상비골지대 봉합수술 후 회복  고객은 최근에 오른쪽 발목 상비골지대 봉합수술을 받았습니다. 그리고 현재는 재활이나...   \n",
       "6         삼각인대 및 근육 통증  고객은 왼발 삼각인대와 오른쪽 사타구니 직근을 다쳐 킥이나 슈팅을 제대로 수행하지 ...   \n",
       "8      [아킬레스건염, 손목힘줄염]  고객은 아킬레스건염과 손목힘줄염 진단을 받았습니다. 손목 문제는 몇 개월 전부터 시...   \n",
       "10               하체 통증  고객은 2년 동안 하체 통증으로 고생하였으며, 매번 새로운 부위에서 통증이 발생했습...   \n",
       "11               만성 통증  고객의 남편이 운동을 하지는 않지만 종아리, 어깨, 목 부분에 매일 통증이 있다. ...   \n",
       "17             평발 및 통증  고객은 축구나 풋살을 한 후 오른발 아치와 복숭아뼈에 통증을 겪고 있습니다. 오른발...   \n",
       "18              아치 무너짐              고객은 양쪽 발 아치 안쪽이 무너져 있어서 고생하고 있다고 합니다.   \n",
       "19       허리 골반 밸런스 불균형                 고객의 허리 골반이 밸런스가 맞지 않아 문제가 되고 있습니다.   \n",
       "20            염증 및 힘줄염  고객은 별다른 활동을 하지 않아도 자신의 몸이 무리라고 느껴 염증이나 힘줄염이 자주...   \n",
       "22           테니스 엘보 통증  고객은 테니스 엘보 통증에 대한 관리법을 알고 싶어하며, 여러 치료에도 불구하고 통...   \n",
       "23      전방십자인대 수술 후 통증  고객은 전방십자인대 수술을 받았으며, 앞허벅지 힘을 주는 동작을 할 때 앞쪽에서 통...   \n",
       "26                  통증  고객은 병원에서의 재활을 끝마친 상태이나, 50일이 지나도 아직 통증이 남아있다고 ...   \n",
       "27               관절 통증          고객은 굽히는 동작이나 자세를 취하면 특정 부위에 통증을 느끼고 있습니다.   \n",
       "28               손목 염좌  고객의 손목에 염좌가 있어서 지속적인 통증을 겪고 있습니다. 아픈 동작을 중단하고 ...   \n",
       "30        아이싱 시간 설정 문제  고객이 아이싱을 너무 오래 (10~15분) 하고 있었음. 아이싱은 5분이하로 짧게 ...   \n",
       "31            손목 인대 손상    고객은 손목 인대 손상으로 인해 PRP 주사를 맞고 있지만, 아직도 통증이 있습니다.   \n",
       "32           왼쪽 기립근 통증  고객은 왼쪽 기립근 바깥쪽에 지속적인 통증을 겪고 있으며, 장요근이 문제일 수 있을...   \n",
       "33            아킬레스건 통증  마라톤 선수였던 고객이 휴식 중에도 아킬레스부착부 발달이 되어 통증을 느끼고 있다....   \n",
       "34       발목 인대 파열 후 통증  고객은 발목 부분을 파열해 2달 동안 쉬었습니다. 다시 운동을 시작하려고 하는데 발...   \n",
       "35               어깨 통증  고객이 턱걸이를 하다가 어깨에서 소리가 난 후 다음날부터 손을 위로 뻗을 때마다 어...   \n",
       "36    사타구니, 엉덩이, 허리 통증  고객은 최근 경기를 뛰고 나서 사타구니, 엉덩이, 허리 세 군데의 통증을 겪고 있습...   \n",
       "37                  부상                              고객은 어제 저녁에 부상을 입었습니다.   \n",
       "38      골반 척추 및 고관절 통증  고객이 평소에 뛰지 않다가 갑자기 많이 뛸 정도로 활동해 척추 및 고관절 부위에 심...   \n",
       "39                골프엘보  고객은 골프엘보에 대해 문제를 겪고 있고, 통증이 잘 나아지지 않아 해결방안을 찾고...   \n",
       "40              사각근 통증  고객은 사각근 통증을 오랫동안 겪고 있으며, 물리치료, 도수치료, 침 치료를 받았지...   \n",
       "41            어깨 전면 통증  고객은 수영을 하면서 어깨 전면 부분에 통증을 겪고 있습니다. 특히 물을 밀거나 팔...   \n",
       "42            신경통 및 통증  고객님의 오른쪽 뒷다리와 엉덩이에 신경통이 있어 허리까지 통증이 옵니다. 이 통증은...   \n",
       "43             영상진단 필요  고객은 1달 동안 알 수 없는 부위에 통증을 소지하고 있습니다. 약물 치료 외에 얼...   \n",
       "45    팔꿈치 완전파열 수술 후 회복  고객은 팔꿈치 내측인대 완전파열로 접합수술을 받은지 3달이 되었지만 아직 팔꿈치가 ...   \n",
       "46         엄지발 밑 힘줄 염증  고객은 일상생활 중 계속 발을 딛게 돼 힘줄 염증이 잘 줄지 않는 상황입니다. 통증...   \n",
       "48               운동 제한  고객은 일정 범위 이상으로 운동할 수 없는 제한이 있습니다. 보통 0도에서 -5도 ...   \n",
       "49      몸의 초기화 및 통증 관리  현재 고객은 몸이 초기화되면 가진 통증들이 사라질지, 초기화 후에 운동이 가능한지,...   \n",
       "\n",
       "   solution  \n",
       "0            \n",
       "1            \n",
       "2            \n",
       "3            \n",
       "4            \n",
       "5            \n",
       "6            \n",
       "8            \n",
       "10           \n",
       "11           \n",
       "17           \n",
       "18           \n",
       "19           \n",
       "20           \n",
       "22           \n",
       "23           \n",
       "26           \n",
       "27           \n",
       "28           \n",
       "30           \n",
       "31           \n",
       "32           \n",
       "33           \n",
       "34           \n",
       "35           \n",
       "36           \n",
       "37           \n",
       "38           \n",
       "39           \n",
       "40           \n",
       "41           \n",
       "42           \n",
       "43           \n",
       "45           \n",
       "46           \n",
       "48           \n",
       "49           "
      ]
     },
     "execution_count": 44,
     "metadata": {},
     "output_type": "execute_result"
    }
   ],
   "source": [
    "clean_df = df[df[\"문제 종류\"] != \"없음\"]\n",
    "clean_df"
   ]
  },
  {
   "cell_type": "code",
   "execution_count": 46,
   "id": "2ed3e993",
   "metadata": {},
   "outputs": [],
   "source": [
    "clean_df.to_csv(\"kakao_clean_data.csv\")"
   ]
  },
  {
   "cell_type": "markdown",
   "id": "b7fb51ff",
   "metadata": {},
   "source": [
    "# "
   ]
  },
  {
   "cell_type": "code",
   "execution_count": null,
   "id": "d51dca33",
   "metadata": {},
   "outputs": [],
   "source": []
  }
 ],
 "metadata": {
  "kernelspec": {
   "display_name": "DM_response",
   "language": "python",
   "name": "python3"
  },
  "language_info": {
   "codemirror_mode": {
    "name": "ipython",
    "version": 3
   },
   "file_extension": ".py",
   "mimetype": "text/x-python",
   "name": "python",
   "nbconvert_exporter": "python",
   "pygments_lexer": "ipython3",
   "version": "3.10.16"
  }
 },
 "nbformat": 4,
 "nbformat_minor": 5
}
